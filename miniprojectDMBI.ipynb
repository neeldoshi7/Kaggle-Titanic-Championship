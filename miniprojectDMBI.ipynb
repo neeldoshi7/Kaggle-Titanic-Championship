{
  "nbformat": 4,
  "nbformat_minor": 0,
  "metadata": {
    "colab": {
      "name": "miniprojectDMBI.ipynb",
      "provenance": [],
      "collapsed_sections": []
    },
    "kernelspec": {
      "name": "python3",
      "display_name": "Python 3"
    }
  },
  "cells": [
    {
      "cell_type": "markdown",
      "metadata": {
        "id": "OZrVvhRKpHj8",
        "colab_type": "text"
      },
      "source": [
        "Importing required libraries"
      ]
    },
    {
      "cell_type": "code",
      "metadata": {
        "id": "zR7RBcyupJ67",
        "colab_type": "code",
        "colab": {
          "base_uri": "https://localhost:8080/",
          "height": 71
        },
        "outputId": "c108ff9f-0121-4a49-e1e3-e8c299c60368"
      },
      "source": [
        "import numpy as np \n",
        "import pandas as pd\n",
        "import matplotlib.pyplot as plt\n",
        "import seaborn as sns\n",
        "from xgboost import XGBClassifier\n",
        "import xgboost as xgb\n",
        "from sklearn.ensemble import AdaBoostClassifier, RandomForestRegressor, RandomForestClassifier\n",
        "from sklearn.model_selection import train_test_split, StratifiedKFold, GridSearchCV \n",
        "from sklearn.metrics import mean_absolute_error, accuracy_score, confusion_matrix, classification_report, roc_auc_score\n",
        "from sklearn.preprocessing import StandardScaler\n",
        "from sklearn.impute import SimpleImputer"
      ],
      "execution_count": 1,
      "outputs": [
        {
          "output_type": "stream",
          "text": [
            "/usr/local/lib/python3.6/dist-packages/statsmodels/tools/_testing.py:19: FutureWarning: pandas.util.testing is deprecated. Use the functions in the public API at pandas.testing instead.\n",
            "  import pandas.util.testing as tm\n"
          ],
          "name": "stderr"
        }
      ]
    },
    {
      "cell_type": "markdown",
      "metadata": {
        "id": "1NiD1HnFpNjf",
        "colab_type": "text"
      },
      "source": [
        "Loading data"
      ]
    },
    {
      "cell_type": "code",
      "metadata": {
        "id": "sp_EpkREpX3s",
        "colab_type": "code",
        "colab": {}
      },
      "source": [
        "titanic_data = pd.read_csv('titanic.csv')\n",
        "titanic_data.head()"
      ],
      "execution_count": 0,
      "outputs": []
    },
    {
      "cell_type": "code",
      "metadata": {
        "id": "OyS_Vh7_pbP2",
        "colab_type": "code",
        "colab": {}
      },
      "source": [
        "titanic_data.shape"
      ],
      "execution_count": 0,
      "outputs": []
    },
    {
      "cell_type": "markdown",
      "metadata": {
        "id": "tycMqJV-pdDV",
        "colab_type": "text"
      },
      "source": [
        "Data Preprocessing"
      ]
    },
    {
      "cell_type": "code",
      "metadata": {
        "id": "EaPDNYespe-u",
        "colab_type": "code",
        "colab": {}
      },
      "source": [
        "print(titanic_data.isna().sum())"
      ],
      "execution_count": 0,
      "outputs": []
    },
    {
      "cell_type": "code",
      "metadata": {
        "id": "LHtCvVwfphas",
        "colab_type": "code",
        "colab": {}
      },
      "source": [
        "titanic_data = titanic_data.drop(['Name', 'Cabin','Ticket'], axis = 1) "
      ],
      "execution_count": 0,
      "outputs": []
    },
    {
      "cell_type": "markdown",
      "metadata": {
        "id": "YpRYK0mGpqaY",
        "colab_type": "text"
      },
      "source": [
        "Replacing missing values with mean"
      ]
    },
    {
      "cell_type": "code",
      "metadata": {
        "id": "2b__Kwzrpk_j",
        "colab_type": "code",
        "colab": {}
      },
      "source": [
        "titanic_data.fillna(titanic_data.mean(), inplace=True)"
      ],
      "execution_count": 0,
      "outputs": []
    },
    {
      "cell_type": "code",
      "metadata": {
        "id": "-Wa4CQtIpmtn",
        "colab_type": "code",
        "colab": {}
      },
      "source": [
        "titanic_data['Embarked'].fillna(titanic_data['Embarked'].mode()[0], inplace=True)"
      ],
      "execution_count": 0,
      "outputs": []
    },
    {
      "cell_type": "markdown",
      "metadata": {
        "id": "zvIEQi3SpwX9",
        "colab_type": "text"
      },
      "source": [
        "Making Dataframe"
      ]
    },
    {
      "cell_type": "code",
      "metadata": {
        "id": "eCV08Y0Vpy15",
        "colab_type": "code",
        "colab": {}
      },
      "source": [
        "df = pd.DataFrame(titanic_data)\n",
        "df.head()"
      ],
      "execution_count": 0,
      "outputs": []
    },
    {
      "cell_type": "markdown",
      "metadata": {
        "id": "wWYAsMH0p0tv",
        "colab_type": "text"
      },
      "source": [
        "Handling Categorical Values"
      ]
    },
    {
      "cell_type": "code",
      "metadata": {
        "id": "GUDgKp9qp3GA",
        "colab_type": "code",
        "colab": {}
      },
      "source": [
        "# Dummy Variables - Gender\n",
        "\n",
        "df = pd.get_dummies(df , columns = ['Sex'])"
      ],
      "execution_count": 0,
      "outputs": []
    },
    {
      "cell_type": "code",
      "metadata": {
        "id": "Mh_Uq6MLp5yf",
        "colab_type": "code",
        "colab": {}
      },
      "source": [
        "# Dummy Variables - Pclass\n",
        "\n",
        "df = pd.get_dummies(df , columns = ['Pclass'])"
      ],
      "execution_count": 0,
      "outputs": []
    },
    {
      "cell_type": "code",
      "metadata": {
        "id": "YdNqXTgkp7tH",
        "colab_type": "code",
        "colab": {}
      },
      "source": [
        "# Dummy Variables - Embarked\n",
        "\n",
        "df = pd.get_dummies(df , columns = ['Embarked'])"
      ],
      "execution_count": 0,
      "outputs": []
    },
    {
      "cell_type": "markdown",
      "metadata": {
        "id": "oaCHu2e2p-G5",
        "colab_type": "text"
      },
      "source": [
        "Divide data into independent and dependent"
      ]
    },
    {
      "cell_type": "code",
      "metadata": {
        "id": "rrHdwbufqDbR",
        "colab_type": "code",
        "colab": {}
      },
      "source": [
        "X= df\n",
        "X = X.drop(['Survived','PassengerId'], axis = 1)"
      ],
      "execution_count": 0,
      "outputs": []
    },
    {
      "cell_type": "code",
      "metadata": {
        "id": "OsOe9HmIqFI3",
        "colab_type": "code",
        "colab": {}
      },
      "source": [
        "y = df['Survived']"
      ],
      "execution_count": 0,
      "outputs": []
    },
    {
      "cell_type": "code",
      "metadata": {
        "id": "uGbhq-lkqGqi",
        "colab_type": "code",
        "colab": {}
      },
      "source": [
        "X.head()"
      ],
      "execution_count": 0,
      "outputs": []
    },
    {
      "cell_type": "code",
      "metadata": {
        "id": "OKsdnaSvqJn0",
        "colab_type": "code",
        "colab": {}
      },
      "source": [
        "y.head()"
      ],
      "execution_count": 0,
      "outputs": []
    },
    {
      "cell_type": "markdown",
      "metadata": {
        "id": "qkWUVb4zqocC",
        "colab_type": "text"
      },
      "source": [
        "Divide Train and Test data"
      ]
    },
    {
      "cell_type": "code",
      "metadata": {
        "id": "KPBtMxFxqrZH",
        "colab_type": "code",
        "colab": {}
      },
      "source": [
        "X_train, X_test, y_train, y_test = train_test_split(X, y, test_size = 0.2, random_state=123)\n"
      ],
      "execution_count": 0,
      "outputs": []
    },
    {
      "cell_type": "code",
      "metadata": {
        "id": "vU8Jh8REqtmx",
        "colab_type": "code",
        "colab": {}
      },
      "source": [
        "# Instantiating the classifier and fitting it \n",
        "xgb_clf = xgb.XGBClassifier(learning_rate=0.02, n_estimators = 1000, max_depth = 2,subsample=0.8, colsample_bytree=0.5,gamma=0)\n",
        "xgb_clf.fit(X_train, y_train)"
      ],
      "execution_count": 0,
      "outputs": []
    },
    {
      "cell_type": "code",
      "metadata": {
        "id": "EQ-75szbqve7",
        "colab_type": "code",
        "colab": {}
      },
      "source": [
        "# Applying classifier on test (unseen) set\n",
        "predictions = xgb_clf.predict(X_test)\n",
        "# accuracy score\n",
        "accuracy = accuracy_score(y_test, predictions)\n",
        "print(np.round(accuracy*100, 2), '%')"
      ],
      "execution_count": 0,
      "outputs": []
    },
    {
      "cell_type": "code",
      "metadata": {
        "id": "1yQr9VSVqxe8",
        "colab_type": "code",
        "colab": {}
      },
      "source": [
        "print(confusion_matrix(y_test, predictions))\n",
        "print(\"=\"*60)\n",
        "print(classification_report(y_test, predictions))\n"
      ],
      "execution_count": 0,
      "outputs": []
    },
    {
      "cell_type": "code",
      "metadata": {
        "id": "a9pXRxvDqzYL",
        "colab_type": "code",
        "colab": {}
      },
      "source": [
        "from sklearn.metrics import roc_curve  \n",
        "probs = xgb_clf.predict_proba(X_test)  \n",
        "probs = probs[:, 1]  \n",
        "fper, tper, thresholds = roc_curve(y_test, probs) \n",
        "plt.plot(fper, tper)\n",
        "plt.plot([0,1], [0,1], 'k--')\n",
        "plt.xlabel('False Positive Rate')\n",
        "plt.ylabel('True Positive Rate')\n",
        "plt.title('XGBoost ROC curve')\n",
        "# show the plot\n",
        "plt.show()"
      ],
      "execution_count": 0,
      "outputs": []
    }
  ]
}